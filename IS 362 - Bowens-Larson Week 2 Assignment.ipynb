{
  "metadata": {
    "kernelspec": {
      "name": "python",
      "display_name": "Python (Pyodide)",
      "language": "python"
    },
    "language_info": {
      "codemirror_mode": {
        "name": "python",
        "version": 3
      },
      "file_extension": ".py",
      "mimetype": "text/x-python",
      "name": "python",
      "nbconvert_exporter": "python",
      "pygments_lexer": "ipython3",
      "version": "3.8"
    }
  },
  "nbformat_minor": 5,
  "nbformat": 4,
  "cells": [
    {
      "id": "f1adc496-5717-4e50-b342-5e2a0a7623f6",
      "cell_type": "markdown",
      "source": "## zip() functions\n\n The zip() function in Python combines multiple iterables such as lists, tuples, strings, dict etc, into a single iterator of tuples. Each tuple contains elements from the input iterables that are at the same position.\n \n-[GeeksforGeeks](https://www.geeksforgeeks.org/zip-in-python/)\n\n#### Zipping data with zip():\n\nIn the example below the zip() function is used to join a list of students with a list of universities:",
      "metadata": {}
    },
    {
      "id": "273fdfa0-7cd7-4a78-a5d8-73cd62b9d71d",
      "cell_type": "code",
      "source": "students = ['Alicia', 'Jim', 'Evelyn', 'Darren']\nuniversities = ['Columbia', 'Hamline', 'Georgetown', 'Northwestern']\njoined = zip(students, universities)\nprint(list(joined))",
      "metadata": {
        "trusted": true
      },
      "outputs": [
        {
          "name": "stdout",
          "output_type": "stream",
          "text": "[('Alicia', 'Columbia'), ('Jim', 'Hamline'), ('Evelyn', 'Georgetown'), ('Darren', 'Northwestern')]\n"
        }
      ],
      "execution_count": 2
    },
    {
      "id": "a2147254-c05a-414c-9a83-775e3a939bee",
      "cell_type": "markdown",
      "source": "#### Unzipping data with zip()\n\nData can also be unzipped using the * operator. ",
      "metadata": {}
    },
    {
      "id": "4dedd126-75a3-41be-a482-7ddd4bbd1a65",
      "cell_type": "code",
      "source": "l = [('Science', 10), ('History', 24), ('English', 8)]\n\nsubject, rm_num = zip(*l)\nprint(subject)\nprint(rm_num)",
      "metadata": {
        "trusted": true
      },
      "outputs": [
        {
          "name": "stdout",
          "output_type": "stream",
          "text": "('Science', 'History', 'English')\n(10, 24, 8)\n"
        }
      ],
      "execution_count": 1
    },
    {
      "id": "be2ff726-30d8-43ba-a969-99e43252f1d9",
      "cell_type": "markdown",
      "source": "The zip() funtion is a great tool for joining or seperating multiple iterables. ",
      "metadata": {}
    }
  ]
}